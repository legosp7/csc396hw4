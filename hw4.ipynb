{
 "cells": [
  {
   "cell_type": "code",
   "execution_count": 2,
   "metadata": {},
   "outputs": [
    {
     "name": "stdout",
     "output_type": "stream",
     "text": [
      "device: cpu\n",
      "random seed: 1234\n"
     ]
    }
   ],
   "source": [
    "import random\n",
    "import torch\n",
    "import numpy as np\n",
    "import pandas as pd\n",
    "from tqdm.notebook import tqdm\n",
    "\n",
    "\n",
    "# enable tqdm in pandas\n",
    "tqdm.pandas()\n",
    "\n",
    "# set to True to use the gpu (if there is one available)\n",
    "use_gpu = True\n",
    "\n",
    "# select device\n",
    "device = torch.device('cuda' if use_gpu and torch.cuda.is_available() else 'cpu')\n",
    "print(f'device: {device.type}')\n",
    "\n",
    "# random seed\n",
    "seed = 1234\n",
    "\n",
    "# set random seed\n",
    "if seed is not None:\n",
    "    print(f'random seed: {seed}')\n",
    "    random.seed(seed)\n",
    "    np.random.seed(seed)\n",
    "    torch.manual_seed(seed)"
   ]
  },
  {
   "cell_type": "code",
   "execution_count": 3,
   "metadata": {},
   "outputs": [],
   "source": [
    "def read_data(filename):\n",
    "    data_text = []\n",
    "    file = open(filename)\n",
    "    for line in file:\n",
    "        line_list = line.strip()\n",
    "        data_text.append(line_list)\n",
    "    return data_text\n",
    "\n",
    "\n"
   ]
  },
  {
   "cell_type": "code",
   "execution_count": 4,
   "metadata": {},
   "outputs": [],
   "source": [
    "df = read_data(\"dataset.txt\")"
   ]
  },
  {
   "cell_type": "code",
   "execution_count": 5,
   "metadata": {},
   "outputs": [],
   "source": [
    "from collections import defaultdict\n",
    "\n",
    "# convert to dict for token storage\n",
    "tokens_emb = defaultdict(list)"
   ]
  },
  {
   "cell_type": "code",
   "execution_count": 6,
   "metadata": {},
   "outputs": [
    {
     "name": "stderr",
     "output_type": "stream",
     "text": [
      "d:\\legos\\Documents\\Homework\\Fall2024\\csc396\\.conda\\Lib\\site-packages\\tqdm\\auto.py:21: TqdmWarning: IProgress not found. Please update jupyter and ipywidgets. See https://ipywidgets.readthedocs.io/en/stable/user_install.html\n",
      "  from .autonotebook import tqdm as notebook_tqdm\n",
      "d:\\legos\\Documents\\Homework\\Fall2024\\csc396\\.conda\\Lib\\site-packages\\huggingface_hub\\file_download.py:139: UserWarning: `huggingface_hub` cache-system uses symlinks by default to efficiently store duplicated files but your machine does not support them in C:\\Users\\legos\\.cache\\huggingface\\hub\\models--microsoft--deberta-v3-base. Caching files will still work but in a degraded version that might require more space on your disk. This warning can be disabled by setting the `HF_HUB_DISABLE_SYMLINKS_WARNING` environment variable. For more details, see https://huggingface.co/docs/huggingface_hub/how-to-cache#limitations.\n",
      "To support symlinks on Windows, you either need to activate Developer Mode or to run Python as an administrator. In order to activate developer mode, see this article: https://docs.microsoft.com/en-us/windows/apps/get-started/enable-your-device-for-development\n",
      "  warnings.warn(message)\n",
      "d:\\legos\\Documents\\Homework\\Fall2024\\csc396\\.conda\\Lib\\site-packages\\huggingface_hub\\file_download.py:139: UserWarning: `huggingface_hub` cache-system uses symlinks by default to efficiently store duplicated files but your machine does not support them in C:\\Users\\legos\\.cache\\huggingface\\hub\\models--microsoft--deberta-base. Caching files will still work but in a degraded version that might require more space on your disk. This warning can be disabled by setting the `HF_HUB_DISABLE_SYMLINKS_WARNING` environment variable. For more details, see https://huggingface.co/docs/huggingface_hub/how-to-cache#limitations.\n",
      "To support symlinks on Windows, you either need to activate Developer Mode or to run Python as an administrator. In order to activate developer mode, see this article: https://docs.microsoft.com/en-us/windows/apps/get-started/enable-your-device-for-development\n",
      "  warnings.warn(message)\n"
     ]
    }
   ],
   "source": [
    "# Load model directly\n",
    "from transformers import AutoModel\n",
    "model = AutoModel.from_pretrained(\"microsoft/deberta-v3-base\")\n",
    "from transformers import DebertaTokenizerFast\n",
    "\n",
    "tokenizer = DebertaTokenizerFast.from_pretrained(\"microsoft/deberta-base\")  #using fast to speed up"
   ]
  },
  {
   "cell_type": "code",
   "execution_count": null,
   "metadata": {},
   "outputs": [],
   "source": [
    "#split the data into train and test\n",
    "from sklearn.model_selection import train_test_split\n",
    "train, test = train_test_split(df, test_size=0.95, random_state=seed)\n"
   ]
  },
  {
   "cell_type": "code",
   "execution_count": 25,
   "metadata": {},
   "outputs": [
    {
     "name": "stdout",
     "output_type": "stream",
     "text": [
      "4468825\n",
      "223441\n"
     ]
    }
   ],
   "source": [
    "print(len(df))\n",
    "print(len(train))"
   ]
  },
  {
   "cell_type": "code",
   "execution_count": null,
   "metadata": {},
   "outputs": [],
   "source": [
    "batch_size = 24 #to make faster\n",
    "for i in range(0,len(train),batch_size):\n",
    "    batch = train[i:i+batch_size]\n",
    "\n",
    "    #tokenize\n",
    "    encoding = tokenizer(batch, padding = True, truncation = True, return_tensors='pt') #return as pt otherwise it throws an error about no size() for list\n",
    "    input_ids = encoding['input_ids']\n",
    "    attention_mask = encoding['attention_mask']\n",
    "    input_ids.to(device)\n",
    "    attention_mask.to(device)\n",
    "\n",
    "    with torch.no_grad():\n",
    "        outputs = model(input_ids,attention_mask=attention_mask)\n",
    "        hidden_states = outputs.last_hidden_state\n",
    "\n",
    "    #print(hidden_states)\n",
    "\n",
    "    for i in range(hidden_states.size(0)):\n",
    "        input_id_2 = input_ids[i]\n",
    "        emb = hidden_states[i]\n",
    "        tokens = tokenizer.convert_ids_to_tokens(input_id_2) #convert to words\n",
    "\n",
    "    for j, word in enumerate(tokens):\n",
    "        embedding = emb[j].cpu().numpy() #send back to cpu, otherwise will give error\n",
    "        tokens_emb[word].append(embedding)\n",
    "        "
   ]
  },
  {
   "cell_type": "code",
   "execution_count": 14,
   "metadata": {},
   "outputs": [],
   "source": [
    "#average embeddings\n",
    "avg_emb =  {}\n",
    "for k,v in tokens_emb.items():\n",
    "    emb_arr = np.array(v)\n",
    "    mean_emb = np.mean(emb_arr)\n",
    "    avg_emb[k] = mean_emb"
   ]
  },
  {
   "cell_type": "code",
   "execution_count": 15,
   "metadata": {},
   "outputs": [
    {
     "name": "stdout",
     "output_type": "stream",
     "text": [
      "{'[CLS]': np.float32(8.155645e-05), 'American': np.float32(-0.006403081), 'Ġsilent': np.float32(-0.007398194), 'Ġfeature': np.float32(0.0034562114), 'Ġfilms': np.float32(0.0057159574), '[SEP]': np.float32(0.0015015276), '[PAD]': np.float32(-0.0021148787), 'It': np.float32(0.03697178), 'Ġcan': np.float32(-0.015007238), 'Ġalso': np.float32(-0.0063433372), 'Ġbe': np.float32(-0.0063217334), 'Ġclassified': np.float32(0.011430574), 'Ġby': np.float32(-0.015195114), 'Ġvegetation': np.float32(-7.701168e-05), 'Ġtype': np.float32(-0.0005515839), ',': np.float32(-0.020832261), 'Ġe': np.float32(-0.008898318), '.': np.float32(-0.001643011), 'g': np.float32(0.0030902065), 'Canadian': np.float32(0.04604734), 'ĠPra': np.float32(-0.021137645), 'iries': np.float32(0.009289382), 'Ste': np.float32(0.006514415), 'ppe': np.float32(-0.010073226), 'ĠRoute': np.float32(-0.04480545), 'Pl': np.float32(0.021244263), 'ains': np.float32(0.004047707), 'Roman': np.float32(0.024429658), 'ian': np.float32(-0.012628283), 'Ġschool': np.float32(0.00052148104), 'te': np.float32(-0.014863628), 'achers': np.float32(-0.01097053)}\n"
     ]
    }
   ],
   "source": [
    "print(avg_emb)"
   ]
  },
  {
   "cell_type": "markdown",
   "metadata": {},
   "source": [
    "Problem 2"
   ]
  },
  {
   "cell_type": "code",
   "execution_count": 16,
   "metadata": {},
   "outputs": [],
   "source": [
    "glove_df = read_data('glove.6B.300d-vocabulary.txt')\n"
   ]
  },
  {
   "cell_type": "code",
   "execution_count": 20,
   "metadata": {},
   "outputs": [],
   "source": [
    "def most_similar_words(word,emb,topn=10):\n",
    "    if word not in emb:\n",
    "        print(\"Word not in embeddings!\")\n",
    "        return\n",
    "    else:\n",
    "        word_emb = emb[word]\n",
    "        similar = {}\n",
    "        for k,v in emb.items():\n",
    "            if  k != word:\n",
    "                sim = np.dot(word_emb,v) / (norm(word_emb)*norm(v)) #normalize\n",
    "                similar[k] = sim\n",
    "        similar_sort = sorted(similar.items(), key=lambda item: item[1], reverse=True)\n",
    "        similar_list = []\n",
    "        for k,v in similar_sort.items():\n",
    "            for i in range(0,topn):\n",
    "                similar_list.append(tuple([k,similar_sort[k]]))\n",
    "        return similar_list\n",
    "                "
   ]
  },
  {
   "cell_type": "code",
   "execution_count": null,
   "metadata": {},
   "outputs": [],
   "source": [
    "print(most_similar_words('cactus',avg_emb,10))\n",
    "print(most_similar_words('cake',avg_emb,10))\n",
    "print(most_similar_words('angry',avg_emb,10))\n",
    "print(most_similar_words('quickly',avg_emb,10))\n",
    "print(most_similar_words('between',avg_emb,10))\n",
    "print(most_similar_words('the',avg_emb,10))"
   ]
  }
 ],
 "metadata": {
  "kernelspec": {
   "display_name": "Python 3",
   "language": "python",
   "name": "python3"
  },
  "language_info": {
   "codemirror_mode": {
    "name": "ipython",
    "version": 3
   },
   "file_extension": ".py",
   "mimetype": "text/x-python",
   "name": "python",
   "nbconvert_exporter": "python",
   "pygments_lexer": "ipython3",
   "version": "3.11.10"
  }
 },
 "nbformat": 4,
 "nbformat_minor": 2
}
